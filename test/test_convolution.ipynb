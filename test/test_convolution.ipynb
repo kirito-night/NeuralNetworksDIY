{
 "cells": [
  {
   "cell_type": "code",
   "execution_count": 1,
   "metadata": {},
   "outputs": [],
   "source": [
    "import sys \n",
    "sys.path.append('..')\n",
    "from projet_etu import *\n",
    "import numpy as np \n",
    "import matplotlib as plt \n",
    "from mltools import *\n",
    "from utils import *\n",
    "import pickle as pkl\n",
    "from loss import *\n",
    "from activation import *\n",
    "from sklearn.datasets import load_digits\n",
    "import pandas as pd\n"
   ]
  },
  {
   "cell_type": "code",
   "execution_count": 2,
   "metadata": {},
   "outputs": [
    {
     "data": {
      "text/plain": [
       "(array([488., 412., 311., 260., 306., 244., 261., 282., 224., 281.]),\n",
       " array([-0.5,  0.5,  1.5,  2.5,  3.5,  4.5,  5.5,  6.5,  7.5,  8.5,  9.5]),\n",
       " <BarContainer object of 10 artists>)"
      ]
     },
     "execution_count": 2,
     "metadata": {},
     "output_type": "execute_result"
    },
    {
     "data": {
      "image/png": "[encoded data removed]",
      "text/plain": [
       "<Figure size 640x480 with 1 Axes>"
      ]
     },
     "metadata": {},
     "output_type": "display_data"
    }
   ],
   "source": [
    "# Chargement des données\n",
    "data = pkl.load(open(\"../data/usps.pkl\",'rb')) \n",
    "# data est un dictionnaire contenant les champs explicites X_train, X_test, Y_train, Y_test\n",
    "X_train = np.array(data[\"X_train\"],dtype=float) # changement de type pour éviter les problèmes d'affichage\n",
    "X_test = np.array(data[\"X_test\"],dtype=float)\n",
    "Y_train = data[\"Y_train\"]\n",
    "Y_test = data[\"Y_test\"]\n",
    "\n",
    "\n",
    "# onehot encoding\n",
    "Y_train_onehot = onehot(Y_train)\n",
    "Y_test_onehot = onehot(Y_test)\n",
    "Y_train_onehot = Y_train_onehot.astype(int)\n",
    "\n",
    "\n",
    "# normalisation des données\n",
    "X_train = X_train/np.max(X_train)\n",
    "X_test = X_test/np.max(X_test)\n",
    "\n",
    "\n",
    "# visualisation de la distribution des étiquettes (dans les 10 classes de chiffres)\n",
    "plt.figure()\n",
    "plt.hist(Y_train, np.linspace(-0.5,9.5,11))\n",
    "plt.hist(Y_test, np.linspace(-0.5,9.5,11))\n",
    "#plt.savefig(\"distr_classes.png\")"
   ]
  },
  {
   "cell_type": "code",
   "execution_count": 3,
   "metadata": {},
   "outputs": [
    {
     "name": "stdout",
     "output_type": "stream",
     "text": [
      "(6229, 256)\n",
      "(3069, 256) (6229,) (3069,)\n"
     ]
    },
    {
     "data": {
      "text/plain": [
       "Text(0.5, 1.0, 'Image de : 6')"
      ]
     },
     "execution_count": 3,
     "metadata": {},
     "output_type": "execute_result"
    },
    {
     "data": {
      "image/png": "[encoded data removed]",
      "text/plain": [
       "<Figure size 640x480 with 1 Axes>"
      ]
     },
     "metadata": {},
     "output_type": "display_data"
    }
   ],
   "source": [
    "# prise en main des matrices X, Y\n",
    "print(X_train.shape)\n",
    "# 6229 images composées de 256 pixels (image = 16x16)\n",
    "print(X_test.shape,Y_train.shape, Y_test.shape)\n",
    "\n",
    "# Affichage de l'image 18 de la base de données et récupération de l'étiquette associée:\n",
    "# (1) remise en forme de la ligne de 256 pixels en 16x16\n",
    "# (2) affichage avec imshow (en niveaux de gris)\n",
    "# (3) récupération de l'étiquette dans Y_train\n",
    "\n",
    "plt.figure()\n",
    "plt.imshow(X_train[18].reshape(16,16))\n",
    "plt.title(\"Image de : {}\".format(Y_train[18]))"
   ]
  },
  {
   "cell_type": "code",
   "execution_count": 4,
   "metadata": {},
   "outputs": [],
   "source": [
    "# traitement des donnees pour faire la convolution\n",
    "X_train = X_train.reshape(-1,16,16)\n",
    "X_test = X_test.reshape(-1,16,16)\n",
    "Y_train = Y_train.reshape(-1,1)\n",
    "Y_test = Y_test.reshape(-1,1)\n",
    "\n"
   ]
  },
  {
   "cell_type": "code",
   "execution_count": 5,
   "metadata": {},
   "outputs": [],
   "source": [
    "conv1 =  Conv1D(1, 16, 3, stride=1)\n",
    "tanh = TanH()\n",
    "softmax = Softmax()\n",
    "sigmoid = Sigmoid()\n",
    "linear2 = Linear(128, 10,biais=False)\n",
    "bce_loss = BCELoss()\n",
    "\n",
    "loss_list= []\n",
    "encoder = [conv1, tanh, linear2,tanh]\n",
    "decoder = [Linear(10, 128), tanh, Linear(128, 256), sigmoid]\n",
    "net = Sequential(encoder)"
   ]
  },
  {
   "cell_type": "code",
   "execution_count": 6,
   "metadata": {},
   "outputs": [
    {
     "ename": "AssertionError",
     "evalue": "X must have 2 channels. Here X have 16 channels.",
     "output_type": "error",
     "traceback": [
      "\u001b[0;31m---------------------------------------------------------------------------\u001b[0m",
      "\u001b[0;31mAssertionError\u001b[0m                            Traceback (most recent call last)",
      "\u001b[1;32m/Users/nightsky_kirito/Documents/Sorbonne/M1_DAC/S2/ML/projet/test/test_convolution.ipynb Cell 6\u001b[0m in \u001b[0;36m1\n\u001b[0;32m----> <a href='vscode-notebook-cell:/Users/nightsky_kirito/Documents/Sorbonne/M1_DAC/S2/ML/projet/test/test_convolution.ipynb#X13sZmlsZQ%3D%3D?line=0'>1</a>\u001b[0m conv1\u001b[39m.\u001b[39mforward(X_train)\u001b[39m.\u001b[39mshape\n",
      "File \u001b[0;32m~/Documents/Sorbonne/M1_DAC/S2/ML/projet/test/../projet_etu.py:166\u001b[0m, in \u001b[0;36mConv1D.forward\u001b[0;34m(self, X)\u001b[0m\n\u001b[1;32m    158\u001b[0m \u001b[39m\"\"\"Performe une convolution en 1D sans boucles for.\u001b[39;00m\n\u001b[1;32m    159\u001b[0m \u001b[39mParameters\u001b[39;00m\n\u001b[1;32m    160\u001b[0m \u001b[39m----------\u001b[39;00m\n\u001b[0;32m   (...)\u001b[0m\n\u001b[1;32m    163\u001b[0m \u001b[39m-------\u001b[39;00m\n\u001b[1;32m    164\u001b[0m \u001b[39mndarray (batch, (length-k_size)/stride + 1, chan_out)\"\"\"\u001b[39;00m\n\u001b[1;32m    165\u001b[0m batch_size, length, chan_in \u001b[39m=\u001b[39m X\u001b[39m.\u001b[39mshape\n\u001b[0;32m--> 166\u001b[0m \u001b[39massert\u001b[39;00m chan_in \u001b[39m==\u001b[39m \u001b[39mself\u001b[39m\u001b[39m.\u001b[39m_chan_in, \u001b[39mf\u001b[39m\u001b[39m\"\u001b[39m\u001b[39mX must have \u001b[39m\u001b[39m{\u001b[39;00m\u001b[39mself\u001b[39m\u001b[39m.\u001b[39m_chan_in\u001b[39m}\u001b[39;00m\u001b[39m channels. Here X have \u001b[39m\u001b[39m{\u001b[39;00mchan_in\u001b[39m}\u001b[39;00m\u001b[39m channels.\u001b[39m\u001b[39m\"\u001b[39m \n\u001b[1;32m    168\u001b[0m batch_stride, length_stride, chan_stride \u001b[39m=\u001b[39m X\u001b[39m.\u001b[39mstrides\n\u001b[1;32m    170\u001b[0m out_size \u001b[39m=\u001b[39m \u001b[39mint\u001b[39m((length \u001b[39m-\u001b[39m \u001b[39mself\u001b[39m\u001b[39m.\u001b[39m_k_size) \u001b[39m/\u001b[39m \u001b[39mself\u001b[39m\u001b[39m.\u001b[39m_stride \u001b[39m+\u001b[39m \u001b[39m1\u001b[39m)\n",
      "\u001b[0;31mAssertionError\u001b[0m: X must have 2 channels. Here X have 16 channels."
     ]
    }
   ],
   "source": [
    "conv1.forward(X_train).shape\n"
   ]
  },
  {
   "cell_type": "code",
   "execution_count": null,
   "metadata": {},
   "outputs": [
    {
     "name": "stdout",
     "output_type": "stream",
     "text": [
      "Erreur de dimension\n",
      "X.shape[1] =  16\n",
      "self._parameters.shape[0] =  128\n"
     ]
    },
    {
     "ename": "AssertionError",
     "evalue": "",
     "output_type": "error",
     "traceback": [
      "\u001b[0;31m---------------------------------------------------------------------------\u001b[0m",
      "\u001b[0;31mAssertionError\u001b[0m                            Traceback (most recent call last)",
      "File \u001b[0;32m~/Documents/Sorbonne/M1_DAC/S2/ML/projet/test/../projet_etu.py:53\u001b[0m, in \u001b[0;36mLinear.forward\u001b[0;34m(self, X)\u001b[0m\n\u001b[1;32m     52\u001b[0m \u001b[39mtry\u001b[39;00m : \n\u001b[0;32m---> 53\u001b[0m     \u001b[39massert\u001b[39;00m X\u001b[39m.\u001b[39mshape[\u001b[39m1\u001b[39m] \u001b[39m==\u001b[39m \u001b[39mself\u001b[39m\u001b[39m.\u001b[39m_parameters\u001b[39m.\u001b[39mshape[\u001b[39m0\u001b[39m], \u001b[39mf\u001b[39m\u001b[39m\"\u001b[39m\u001b[39mErreur de dimension, X.shape[1] = \u001b[39m\u001b[39m{\u001b[39;00mX\u001b[39m.\u001b[39mshape[\u001b[39m1\u001b[39m]\u001b[39m}\u001b[39;00m\u001b[39m et self._parameters.shape[0] = \u001b[39m\u001b[39m{\u001b[39;00m\u001b[39mself\u001b[39m\u001b[39m.\u001b[39m_parameters\u001b[39m.\u001b[39mshape[\u001b[39m0\u001b[39m]\u001b[39m}\u001b[39;00m\u001b[39m\"\u001b[39m\n\u001b[1;32m     54\u001b[0m     \u001b[39mreturn\u001b[39;00m X \u001b[39m@\u001b[39m \u001b[39mself\u001b[39m\u001b[39m.\u001b[39m_parameters \n",
      "\u001b[0;31mAssertionError\u001b[0m: Erreur de dimension, X.shape[1] = 16 et self._parameters.shape[0] = 128",
      "\nDuring handling of the above exception, another exception occurred:\n",
      "\u001b[0;31mAssertionError\u001b[0m                            Traceback (most recent call last)",
      "\u001b[1;32m/Users/nightsky_kirito/Documents/Sorbonne/M1_DAC/S2/ML/projet/test/test_convolution.ipynb Cell 6\u001b[0m in \u001b[0;36m5\n\u001b[1;32m      <a href='vscode-notebook-cell:/Users/nightsky_kirito/Documents/Sorbonne/M1_DAC/S2/ML/projet/test/test_convolution.ipynb#W4sZmlsZQ%3D%3D?line=1'>2</a>\u001b[0m num_epochs \u001b[39m=\u001b[39m \u001b[39m500\u001b[39m\n\u001b[1;32m      <a href='vscode-notebook-cell:/Users/nightsky_kirito/Documents/Sorbonne/M1_DAC/S2/ML/projet/test/test_convolution.ipynb#W4sZmlsZQ%3D%3D?line=2'>3</a>\u001b[0m \u001b[39mfor\u001b[39;00m epoch \u001b[39min\u001b[39;00m \u001b[39mrange\u001b[39m(num_epochs):\n\u001b[1;32m      <a href='vscode-notebook-cell:/Users/nightsky_kirito/Documents/Sorbonne/M1_DAC/S2/ML/projet/test/test_convolution.ipynb#W4sZmlsZQ%3D%3D?line=3'>4</a>\u001b[0m     \u001b[39m# Forward pass\u001b[39;00m\n\u001b[0;32m----> <a href='vscode-notebook-cell:/Users/nightsky_kirito/Documents/Sorbonne/M1_DAC/S2/ML/projet/test/test_convolution.ipynb#W4sZmlsZQ%3D%3D?line=4'>5</a>\u001b[0m     yhat \u001b[39m=\u001b[39m net\u001b[39m.\u001b[39mforward(X_train)\n\u001b[1;32m      <a href='vscode-notebook-cell:/Users/nightsky_kirito/Documents/Sorbonne/M1_DAC/S2/ML/projet/test/test_convolution.ipynb#W4sZmlsZQ%3D%3D?line=6'>7</a>\u001b[0m     \u001b[39m# Calculer la perte\u001b[39;00m\n\u001b[1;32m      <a href='vscode-notebook-cell:/Users/nightsky_kirito/Documents/Sorbonne/M1_DAC/S2/ML/projet/test/test_convolution.ipynb#W4sZmlsZQ%3D%3D?line=7'>8</a>\u001b[0m     loss \u001b[39m=\u001b[39m bce_loss\u001b[39m.\u001b[39mforward(X_train, yhat)\n",
      "File \u001b[0;32m~/Documents/Sorbonne/M1_DAC/S2/ML/projet/test/../projet_etu.py:83\u001b[0m, in \u001b[0;36mSequential.forward\u001b[0;34m(self, X)\u001b[0m\n\u001b[1;32m     81\u001b[0m \u001b[39mself\u001b[39m\u001b[39m.\u001b[39minput \u001b[39m=\u001b[39m [X]\n\u001b[1;32m     82\u001b[0m \u001b[39mfor\u001b[39;00m layer \u001b[39min\u001b[39;00m \u001b[39mself\u001b[39m\u001b[39m.\u001b[39m_layers:\n\u001b[0;32m---> 83\u001b[0m     X \u001b[39m=\u001b[39m layer\u001b[39m.\u001b[39;49mforward(X)\n\u001b[1;32m     84\u001b[0m     \u001b[39mself\u001b[39m\u001b[39m.\u001b[39minput\u001b[39m.\u001b[39mappend(X)\n\u001b[1;32m     85\u001b[0m \u001b[39mreturn\u001b[39;00m X\n",
      "File \u001b[0;32m~/Documents/Sorbonne/M1_DAC/S2/ML/projet/test/../projet_etu.py:59\u001b[0m, in \u001b[0;36mLinear.forward\u001b[0;34m(self, X)\u001b[0m\n\u001b[1;32m     57\u001b[0m \u001b[39mprint\u001b[39m(\u001b[39m\"\u001b[39m\u001b[39mX.shape[1] = \u001b[39m\u001b[39m\"\u001b[39m, X\u001b[39m.\u001b[39mshape[\u001b[39m1\u001b[39m])\n\u001b[1;32m     58\u001b[0m \u001b[39mprint\u001b[39m(\u001b[39m\"\u001b[39m\u001b[39mself._parameters.shape[0] = \u001b[39m\u001b[39m\"\u001b[39m, \u001b[39mself\u001b[39m\u001b[39m.\u001b[39m_parameters\u001b[39m.\u001b[39mshape[\u001b[39m0\u001b[39m])\n\u001b[0;32m---> 59\u001b[0m \u001b[39mraise\u001b[39;00m \u001b[39mAssertionError\u001b[39;00m\n",
      "\u001b[0;31mAssertionError\u001b[0m: "
     ]
    }
   ],
   "source": [
    "# Boucle d'entraînement en full batc\n",
    "num_epochs = 500\n",
    "for epoch in range(num_epochs):\n",
    "    # Forward pass\n",
    "    yhat = net.forward(X_train)\n",
    "\n",
    "    # Calculer la perte\n",
    "    loss = bce_loss.forward(X_train, yhat)\n",
    "    if epoch % 10 == 0:\n",
    "        print(\"Epoch %d: Loss = %f\" % (epoch, np.mean(loss)))\n",
    "\n",
    "    loss_list.append(loss.mean())\n",
    "\n",
    "    # Backward pass\n",
    "    # print(tan.shape)\n",
    "    # print(delta.shape)\n",
    "    # print(linear2._gradient.shape)\n",
    "    delta = bce_loss.backward(X_train, yhat)\n",
    "    delta = net.backward(X_train, delta, gradient_step = 0.1)\n"
   ]
  },
  {
   "cell_type": "code",
   "execution_count": null,
   "metadata": {},
   "outputs": [
    {
     "data": {
      "text/plain": [
       "torch.Size([6229, 3, 13, 13])"
      ]
     },
     "execution_count": 19,
     "metadata": {},
     "output_type": "execute_result"
    }
   ],
   "source": [
    "import torch \n",
    "import torch.nn as nn\n",
    "convtest = nn.Conv2d(1, 3, 4, stride=1, bias=False)\n",
    "A = torch.from_numpy(X_train[:, np.newaxis, :, :])\n",
    "convtest(A.float()).shape"
   ]
  },
  {
   "cell_type": "code",
   "execution_count": null,
   "metadata": {},
   "outputs": [],
   "source": []
  }
 ],
 "metadata": {
  "kernelspec": {
   "display_name": "base",
   "language": "python",
   "name": "python3"
  },
  "language_info": {
   "codemirror_mode": {
    "name": "ipython",
    "version": 3
   },
   "file_extension": ".py",
   "mimetype": "text/x-python",
   "name": "python",
   "nbconvert_exporter": "python",
   "pygments_lexer": "ipython3",
   "version": "3.10.6"
  },
  "orig_nbformat": 4
 },
 "nbformat": 4,
 "nbformat_minor": 2
}
